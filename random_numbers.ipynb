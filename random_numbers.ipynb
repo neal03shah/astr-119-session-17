{
 "cells": [
  {
   "cell_type": "markdown",
   "id": "4ba76e1a",
   "metadata": {},
   "source": [
    "### Use a random number generator to simulate a simple Gaussian process."
   ]
  },
  {
   "cell_type": "code",
   "execution_count": null,
   "id": "9777640f",
   "metadata": {},
   "outputs": [],
   "source": [
    "%matplotlib inline\n",
    "import matplotlib.pyplot as plt\n",
    "import numpy as np"
   ]
  },
  {
   "cell_type": "markdown",
   "id": "a72221d9",
   "metadata": {},
   "source": [
    "### Set some properties of the random system."
   ]
  },
  {
   "cell_type": "code",
   "execution_count": null,
   "id": "68bed40a",
   "metadata": {},
   "outputs": [],
   "source": [
    "n_samples = 10000 #number of random samples to use\n",
    "n_bins = 100 #number of bins for our histogram\n",
    "sigma = 1.0 #rms width of the gaussian\n",
    "mu = 0.0 #mean of the gaussian"
   ]
  },
  {
   "cell_type": "markdown",
   "id": "0f569ddf",
   "metadata": {},
   "source": [
    "### Generate the random numbers using numpy."
   ]
  },
  {
   "cell_type": "code",
   "execution_count": null,
   "id": "ceb3e21c",
   "metadata": {},
   "outputs": [],
   "source": [
    "x = np.random.normal(mu,sigma,n_samples)\n",
    "print(x.min())\n",
    "print(x.max())"
   ]
  },
  {
   "cell_type": "markdown",
   "id": "acee695d",
   "metadata": {},
   "source": [
    "### Define a function to plot a Gaussian."
   ]
  },
  {
   "cell_type": "code",
   "execution_count": null,
   "id": "a7321c8b",
   "metadata": {},
   "outputs": [],
   "source": [
    "def gaussian(x,mu,sigma):\n",
    "    return 1./(2.0*np.pi*sigma**2)**0.5 * np.exp(-0.5*((x-mu)/sigma)**2)"
   ]
  },
  {
   "cell_type": "markdown",
   "id": "049a4107",
   "metadata": {},
   "source": [
    "### Create a histogram of the data."
   ]
  },
  {
   "cell_type": "code",
   "execution_count": null,
   "id": "b2cb9479",
   "metadata": {},
   "outputs": [],
   "source": [
    "fig = plt.figure(figsize=(7,7))\n",
    "y_hist, x_hist, ignored = plt.hist(x, bins=n_bins, range=[-5,5], density=True)\n",
    "xx = np.linspace(-5.0,5.0,1000)\n",
    "plt.plot(xx,gaussian(xx,mu,sigma),color=\"red\")\n",
    "plt.ylim([0,0.5])\n",
    "plt.xlim([-5,5])\n",
    "plt.gca().set_aspect(20)\n",
    "plt.xlabel('x')\n",
    "plt.ylabel('y(x)')\n",
    "plt.show()"
   ]
  },
  {
   "cell_type": "code",
   "execution_count": null,
   "id": "a5537418",
   "metadata": {},
   "outputs": [],
   "source": []
  }
 ],
 "metadata": {
  "kernelspec": {
   "display_name": "Python 3 (ipykernel)",
   "language": "python",
   "name": "python3"
  },
  "language_info": {
   "codemirror_mode": {
    "name": "ipython",
    "version": 3
   },
   "file_extension": ".py",
   "mimetype": "text/x-python",
   "name": "python",
   "nbconvert_exporter": "python",
   "pygments_lexer": "ipython3",
   "version": "3.9.7"
  }
 },
 "nbformat": 4,
 "nbformat_minor": 5
}
